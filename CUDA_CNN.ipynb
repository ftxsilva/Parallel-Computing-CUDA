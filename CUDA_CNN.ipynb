{
  "nbformat": 4,
  "nbformat_minor": 0,
  "metadata": {
    "colab": {
      "name": "CUDA_CNN.ipynb",
      "provenance": [],
      "collapsed_sections": [],
      "authorship_tag": "ABX9TyPH60utCPbZVjQbWMso14iV",
      "include_colab_link": true
    },
    "kernelspec": {
      "name": "python3",
      "display_name": "Python 3"
    },
    "accelerator": "GPU"
  },
  "cells": [
    {
      "cell_type": "markdown",
      "metadata": {
        "id": "view-in-github",
        "colab_type": "text"
      },
      "source": [
        "<a href=\"https://colab.research.google.com/github/ftxsilva/Parallel-Computing-CUDA/blob/master/CUDA_CNN.ipynb\" target=\"_parent\"><img src=\"https://colab.research.google.com/assets/colab-badge.svg\" alt=\"Open In Colab\"/></a>"
      ]
    },
    {
      "cell_type": "code",
      "metadata": {
        "id": "IJ9cmzfietqw",
        "colab_type": "code",
        "colab": {
          "base_uri": "https://localhost:8080/",
          "height": 151
        },
        "outputId": "989e57ca-c7eb-4588-e35b-346906dbeec8"
      },
      "source": [
        "!pip install PyCuda\n",
        "\n",
        "import numpy as np # to handle matrix and data operation\n",
        "import matplotlib.pyplot as plt   #image visualisation\n",
        "\n",
        "\n",
        "   "
      ],
      "execution_count": null,
      "outputs": [
        {
          "output_type": "stream",
          "text": [
            "Requirement already satisfied: PyCuda in /usr/local/lib/python3.6/dist-packages (2019.1.2)\n",
            "Requirement already satisfied: pytools>=2011.2 in /usr/local/lib/python3.6/dist-packages (from PyCuda) (2020.1)\n",
            "Requirement already satisfied: appdirs>=1.4.0 in /usr/local/lib/python3.6/dist-packages (from PyCuda) (1.4.3)\n",
            "Requirement already satisfied: mako in /usr/local/lib/python3.6/dist-packages (from PyCuda) (1.1.1)\n",
            "Requirement already satisfied: decorator>=3.2.0 in /usr/local/lib/python3.6/dist-packages (from PyCuda) (4.4.1)\n",
            "Requirement already satisfied: numpy>=1.6.0 in /usr/local/lib/python3.6/dist-packages (from pytools>=2011.2->PyCuda) (1.17.5)\n",
            "Requirement already satisfied: six>=1.8.0 in /usr/local/lib/python3.6/dist-packages (from pytools>=2011.2->PyCuda) (1.12.0)\n",
            "Requirement already satisfied: MarkupSafe>=0.9.2 in /usr/local/lib/python3.6/dist-packages (from mako->PyCuda) (1.1.1)\n"
          ],
          "name": "stdout"
        }
      ]
    },
    {
      "cell_type": "code",
      "metadata": {
        "id": "POugCDbef8xK",
        "colab_type": "code",
        "colab": {
          "base_uri": "https://localhost:8080/",
          "height": 1000
        },
        "outputId": "2bfce379-58ba-45e7-94cf-f841b8489f5e"
      },
      "source": [
        "\n",
        "def ShowMNISTObservation(X_data,y_data,obsNb=0):\n",
        "  plt.clf()\n",
        "  plt.imshow(X_data[obsNb,:].reshape((28,28)))\n",
        "  plt.title('Observation '+str(obsNb)+': Label '+str((y_data[obsNb,0])))\n",
        "  plt.show()\n",
        "\n",
        "\n",
        "\n",
        "class SimpleNN():\n",
        "  \"\"\"\n",
        "  Simple neural network with two fully connected layers and a rectified linear unit (ReLU) between them\n",
        "  Inputs are in dimension p and outputs are in dimension 1. \n",
        "  Remark: NN training is performed at each iteration using a single observation. We then use here an\n",
        "  online training procedure and not a more standard mini-batch training. Our goal here is to make the \n",
        "  code simple for pedagogical purposes. \n",
        "  \"\"\"\n",
        "  \n",
        "  def __init__(self,p,convspeed=0.1):\n",
        "    \"\"\"\n",
        "    Initialize the simple NN\n",
        "    \"\"\"\n",
        "    self.p=p\n",
        "    self.convspeed=convspeed\n",
        "    self.theta1=np.random.randn(1,100)/100\n",
        "    self.theta2=np.random.randn(100,self.p)/self.p\n",
        "  \n",
        "    self.Grad_theta1_E=np.zeros((1,100))\n",
        "    self.Grad_theta2_E=np.zeros((100,self.p))\n",
        "  \n",
        "  def predict(self,X_curr):\n",
        "    \"\"\"\n",
        "    Predic the output of the input X_curr. X_curr must be a numpy array of dimension (p)\n",
        "    \"\"\"\n",
        "    #1ST LAYER \n",
        "    theta2_X=np.dot(self.theta2,X_curr)  \n",
        "    \n",
        "    #RELU\n",
        "    ReluFilter=1*(theta2_X>0)            \n",
        "    Filtered_theta2_X=ReluFilter*theta2_X\n",
        "    \n",
        "    #2ND LAYER\n",
        "    y_pred=np.dot(self.theta1,Filtered_theta2_X)[0]\n",
        "    \n",
        "    return y_pred\n",
        "  \n",
        "  \n",
        "  def CptGrads(self,X_curr,y_curr_true,y_curr_pred):\n",
        "    \"\"\"\n",
        "    Compute the loss gradient w.r.t. the two layers parameters. We consider that the loss\n",
        "    is (y_true-y_pred)^2, where  y_true and y_pred are in R. X_curr is also a numpy array \n",
        "    of dimension (p). \n",
        "    Remark: a single observation is used at each iteration to estimate the minimized energy.\n",
        "    Online training and not mini-batch training is then performed here. \n",
        "    \"\"\"\n",
        "    \n",
        "    #cpt self.Grad_theta1_E\n",
        "    theta2_X=np.dot(self.theta2,X_curr)\n",
        "    ReluFilter=1*(theta2_X>0)\n",
        "    self.Grad_theta1_E=-2*(y_curr_true-y_curr_pred)*(theta2_X*ReluFilter)\n",
        "    self.Grad_theta1_E=self.Grad_theta1_E.reshape(1,100)\n",
        "    \n",
        "    #cpt self.Grad_theta2_E\n",
        "    filtered_theta1=(self.theta1*ReluFilter).reshape(100,1)\n",
        "    self.Grad_theta2_E=-2*(y_curr_true-y_curr_pred)*np.dot(filtered_theta1,X_curr.reshape(1,self.p))\n",
        "\n",
        "  def Update(self):\n",
        "    \"\"\"\n",
        "    Update the parameters of layers 1 and 2 with gradients that have been estimated using \n",
        "    the class method 'CptGrads'\n",
        "    \"\"\"\n",
        "    self.theta1=self.theta1-self.convspeed*self.Grad_theta1_E\n",
        "    self.theta2=self.theta2-self.convspeed*self.Grad_theta2_E\n",
        "\n",
        "\n",
        "#++++++++++++++++++++++++++++++++++++++++++++++++++++++++++++++++++++++++++++++++++++++++++++++++++++\n",
        "#++++++++++++++++++++++++++++++++++++++++++++++++++++++++++++++++++++++++++++++++++++++++++++++++++++\n",
        "#++++++++++++++++++++++++++++++++++++++++++++++++++++++++++++++++++++++++++++++++++++++++++++++++++++\n",
        "\n",
        "\n",
        "#1) load and treat the data\n",
        "\n",
        "data=np.genfromtxt('mnist_0_1.csv',delimiter=',')\n",
        "\n",
        "\n",
        "\n",
        "n_tot=data.shape[0]\n",
        "p=data.shape[1]\n",
        "\n",
        "y_train=data[:int(2.*n_tot/3.),0].reshape(-1,1)\n",
        "X_train=data[:int(2.*n_tot/3.),1:]/(255.*p)\n",
        "\n",
        "y_test=data[int(2.*n_tot/3.):,0].reshape(-1,1)\n",
        "X_test=data[int(2.*n_tot/3.):,1:]/(255.*p)\n",
        "\n",
        "\n",
        "print(X_train.shape)\n",
        "print(y_train.shape)\n",
        "print(X_test.shape)\n",
        "print(y_test.shape)\n",
        "\n",
        "\n",
        "\n",
        "#ShowMNISTObservation(X_train,y_train,0)\n",
        "#ShowMNISTObservation(X_train,y_train,1)\n",
        "#...\n",
        "#ShowMNISTObservation(X_test,y_train,1)\n",
        "\n",
        "\n",
        "\n",
        "\n",
        "#2) train\n",
        "\n",
        "\n",
        "SNN=SimpleNN(X_train.shape[1],convspeed=0.1)\n",
        "\n",
        "\n",
        "n=X_train.shape[0]\n",
        "ListLosses=[]\n",
        "\n",
        "for epoch in range(10):\n",
        "    print('epoch:',epoch)\n",
        "    obsIDs=np.arange(n) \n",
        "    np.random.shuffle(obsIDs)\n",
        "    \n",
        "    for i in range(n):\n",
        "        \n",
        "        currObs=obsIDs[i]\n",
        "        X_curr=X_train[currObs,:]\n",
        "        y_curr_true=y_train[currObs,0]\n",
        "        \n",
        "        y_curr_pred=SNN.predict(X_curr)\n",
        "        \n",
        "        ListLosses.append(np.power(y_curr_true-y_curr_pred,2.))\n",
        "        \n",
        "        SNN.CptGrads(X_curr,y_curr_true,y_curr_pred)\n",
        "        \n",
        "        SNN.Update()\n",
        "\n",
        "\n",
        "plt.plot(np.array(ListLosses))\n",
        "plt.xlabel('Iterations')\n",
        "plt.ylabel('loss')\n",
        "plt.show()\n",
        "    \n",
        "\n",
        "#3) train\n",
        "\n",
        "\n",
        "for currObs in range(10):\n",
        "   y_pred=SNN.predict(X_test[currObs,:])\n",
        "   print('y_true=',y_test[currObs,0],'  / y_pred=',1*(y_pred>0.5),'    precisely:',np.round(y_pred,2))\n",
        "   ShowMNISTObservation(X_test,y_test,currObs)\n",
        "   \n",
        "\n",
        "#++++++++++++++++++++++++++++++++++++++++++++++++++++++++++++++++++++++++++++++++++++\n",
        "#QUESTIONS :\n",
        "#   1) Jouer et bien comprendre le code.\n",
        "#   2) Utiliser PyCuda ou bien PyOpenCL pour accelerer le code.\n",
        "#   3) (optionel) Traiter en GPGPU plusieurs observations a la fois pour faire de l'apprentissage\n",
        "#      mini-batch et pas seulement du online.\n",
        "#++++++++++++++++++++++++++++++++++++++++++++++++++++++++++++++++++++++++++++++++++++\n"
      ],
      "execution_count": null,
      "outputs": [
        {
          "output_type": "stream",
          "text": [
            "(2000, 784)\n",
            "(2000, 1)\n",
            "(1000, 784)\n",
            "(1000, 1)\n",
            "epoch: 0\n",
            "epoch: 1\n",
            "epoch: 2\n",
            "epoch: 3\n",
            "epoch: 4\n",
            "epoch: 5\n",
            "epoch: 6\n",
            "epoch: 7\n",
            "epoch: 8\n",
            "epoch: 9\n"
          ],
          "name": "stdout"
        },
        {
          "output_type": "display_data",
          "data": {
            "image/png": "[encoded data removed]",
            "text/plain": [
              "<Figure size 432x288 with 1 Axes>"
            ]
          },
          "metadata": {
            "tags": []
          }
        },
        {
          "output_type": "stream",
          "text": [
            "y_true= 0.0   / y_pred= 0     precisely: -0.0\n"
          ],
          "name": "stdout"
        },
        {
          "output_type": "display_data",
          "data": {
            "image/png": "[encoded data removed]",
            "text/plain": [
              "<Figure size 432x288 with 1 Axes>"
            ]
          },
          "metadata": {
            "tags": []
          }
        },
        {
          "output_type": "stream",
          "text": [
            "y_true= 1.0   / y_pred= 1     precisely: 1.21\n"
          ],
          "name": "stdout"
        },
        {
          "output_type": "display_data",
          "data": {
            "image/png": "[encoded data removed]",
            "text/plain": [
              "<Figure size 432x288 with 1 Axes>"
            ]
          },
          "metadata": {
            "tags": []
          }
        },
        {
          "output_type": "stream",
          "text": [
            "y_true= 1.0   / y_pred= 1     precisely: 0.65\n"
          ],
          "name": "stdout"
        },
        {
          "output_type": "display_data",
          "data": {
            "image/png": "[encoded data removed]",
            "text/plain": [
              "<Figure size 432x288 with 1 Axes>"
            ]
          },
          "metadata": {
            "tags": []
          }
        },
        {
          "output_type": "stream",
          "text": [
            "y_true= 0.0   / y_pred= 0     precisely: 0.01\n"
          ],
          "name": "stdout"
        },
        {
          "output_type": "display_data",
          "data": {
            "image/png": "[encoded data removed]",
            "text/plain": [
              "<Figure size 432x288 with 1 Axes>"
            ]
          },
          "metadata": {
            "tags": []
          }
        },
        {
          "output_type": "stream",
          "text": [
            "y_true= 0.0   / y_pred= 0     precisely: 0.13\n"
          ],
          "name": "stdout"
        },
        {
          "output_type": "display_data",
          "data": {
            "image/png": "[encoded data removed]",
            "text/plain": [
              "<Figure size 432x288 with 1 Axes>"
            ]
          },
          "metadata": {
            "tags": []
          }
        },
        {
          "output_type": "stream",
          "text": [
            "y_true= 0.0   / y_pred= 0     precisely: -0.0\n"
          ],
          "name": "stdout"
        },
        {
          "output_type": "display_data",
          "data": {
            "image/png": "[encoded data removed]",
            "text/plain": [
              "<Figure size 432x288 with 1 Axes>"
            ]
          },
          "metadata": {
            "tags": []
          }
        },
        {
          "output_type": "stream",
          "text": [
            "y_true= 0.0   / y_pred= 0     precisely: -0.0\n"
          ],
          "name": "stdout"
        },
        {
          "output_type": "display_data",
          "data": {
            "image/png": "[encoded data removed]",
            "text/plain": [
              "<Figure size 432x288 with 1 Axes>"
            ]
          },
          "metadata": {
            "tags": []
          }
        },
        {
          "output_type": "stream",
          "text": [
            "y_true= 0.0   / y_pred= 0     precisely: -0.0\n"
          ],
          "name": "stdout"
        },
        {
          "output_type": "display_data",
          "data": {
            "image/png": "[encoded data removed]",
            "text/plain": [
              "<Figure size 432x288 with 1 Axes>"
            ]
          },
          "metadata": {
            "tags": []
          }
        },
        {
          "output_type": "stream",
          "text": [
            "y_true= 0.0   / y_pred= 0     precisely: -0.0\n"
          ],
          "name": "stdout"
        },
        {
          "output_type": "display_data",
          "data": {
            "image/png": "[encoded data removed]",
            "text/plain": [
              "<Figure size 432x288 with 1 Axes>"
            ]
          },
          "metadata": {
            "tags": []
          }
        },
        {
          "output_type": "stream",
          "text": [
            "y_true= 1.0   / y_pred= 1     precisely: 1.16\n"
          ],
          "name": "stdout"
        },
        {
          "output_type": "display_data",
          "data": {
            "image/png": "[encoded data removed]",
            "text/plain": [
              "<Figure size 432x288 with 1 Axes>"
            ]
          },
          "metadata": {
            "tags": []
          }
        }
      ]
    },
    {
      "cell_type": "code",
      "metadata": {
        "id": "3Ek7aYMc5KHC",
        "colab_type": "code",
        "colab": {
          "base_uri": "https://localhost:8080/",
          "height": 1000
        },
        "outputId": "849edf59-b383-468a-9e3d-f40a3e00f5ce"
      },
      "source": [
        "import numpy as np\n",
        "from pycuda import driver, compiler, gpuarray, tools\n",
        "import time\n",
        "\n",
        "# -- initialize the device\n",
        "import pycuda.autoinit\n",
        "\n",
        "\n",
        "#get device information\n",
        "MyDevice=pycuda.driver.Device(0)\n",
        "MyDevice.get_attributes()"
      ],
      "execution_count": null,
      "outputs": [
        {
          "output_type": "execute_result",
          "data": {
            "text/plain": [
              "{pycuda._driver.device_attribute.MAX_THREADS_PER_BLOCK: 1024,\n",
              " pycuda._driver.device_attribute.MAX_BLOCK_DIM_X: 1024,\n",
              " pycuda._driver.device_attribute.MAX_BLOCK_DIM_Y: 1024,\n",
              " pycuda._driver.device_attribute.MAX_BLOCK_DIM_Z: 64,\n",
              " pycuda._driver.device_attribute.MAX_GRID_DIM_X: 2147483647,\n",
              " pycuda._driver.device_attribute.MAX_GRID_DIM_Y: 65535,\n",
              " pycuda._driver.device_attribute.MAX_GRID_DIM_Z: 65535,\n",
              " pycuda._driver.device_attribute.MAX_SHARED_MEMORY_PER_BLOCK: 49152,\n",
              " pycuda._driver.device_attribute.TOTAL_CONSTANT_MEMORY: 65536,\n",
              " pycuda._driver.device_attribute.WARP_SIZE: 32,\n",
              " pycuda._driver.device_attribute.MAX_PITCH: 2147483647,\n",
              " pycuda._driver.device_attribute.MAX_REGISTERS_PER_BLOCK: 65536,\n",
              " pycuda._driver.device_attribute.CLOCK_RATE: 1328500,\n",
              " pycuda._driver.device_attribute.TEXTURE_ALIGNMENT: 512,\n",
              " pycuda._driver.device_attribute.GPU_OVERLAP: 1,\n",
              " pycuda._driver.device_attribute.MULTIPROCESSOR_COUNT: 56,\n",
              " pycuda._driver.device_attribute.KERNEL_EXEC_TIMEOUT: 0,\n",
              " pycuda._driver.device_attribute.INTEGRATED: 0,\n",
              " pycuda._driver.device_attribute.CAN_MAP_HOST_MEMORY: 1,\n",
              " pycuda._driver.device_attribute.COMPUTE_MODE: pycuda._driver.compute_mode.DEFAULT,\n",
              " pycuda._driver.device_attribute.MAXIMUM_TEXTURE1D_WIDTH: 131072,\n",
              " pycuda._driver.device_attribute.MAXIMUM_TEXTURE2D_WIDTH: 131072,\n",
              " pycuda._driver.device_attribute.MAXIMUM_TEXTURE2D_HEIGHT: 65536,\n",
              " pycuda._driver.device_attribute.MAXIMUM_TEXTURE3D_WIDTH: 16384,\n",
              " pycuda._driver.device_attribute.MAXIMUM_TEXTURE3D_HEIGHT: 16384,\n",
              " pycuda._driver.device_attribute.MAXIMUM_TEXTURE3D_DEPTH: 16384,\n",
              " pycuda._driver.device_attribute.MAXIMUM_TEXTURE2D_ARRAY_WIDTH: 32768,\n",
              " pycuda._driver.device_attribute.MAXIMUM_TEXTURE2D_ARRAY_HEIGHT: 32768,\n",
              " pycuda._driver.device_attribute.MAXIMUM_TEXTURE2D_ARRAY_NUMSLICES: 2048,\n",
              " pycuda._driver.device_attribute.SURFACE_ALIGNMENT: 512,\n",
              " pycuda._driver.device_attribute.CONCURRENT_KERNELS: 1,\n",
              " pycuda._driver.device_attribute.ECC_ENABLED: 1,\n",
              " pycuda._driver.device_attribute.PCI_BUS_ID: 0,\n",
              " pycuda._driver.device_attribute.PCI_DEVICE_ID: 4,\n",
              " pycuda._driver.device_attribute.TCC_DRIVER: 0,\n",
              " pycuda._driver.device_attribute.MEMORY_CLOCK_RATE: 715000,\n",
              " pycuda._driver.device_attribute.GLOBAL_MEMORY_BUS_WIDTH: 4096,\n",
              " pycuda._driver.device_attribute.L2_CACHE_SIZE: 4194304,\n",
              " pycuda._driver.device_attribute.MAX_THREADS_PER_MULTIPROCESSOR: 2048,\n",
              " pycuda._driver.device_attribute.ASYNC_ENGINE_COUNT: 2,\n",
              " pycuda._driver.device_attribute.UNIFIED_ADDRESSING: 1,\n",
              " pycuda._driver.device_attribute.MAXIMUM_TEXTURE1D_LAYERED_WIDTH: 32768,\n",
              " pycuda._driver.device_attribute.MAXIMUM_TEXTURE1D_LAYERED_LAYERS: 2048,\n",
              " pycuda._driver.device_attribute.MAXIMUM_TEXTURE2D_GATHER_WIDTH: 32768,\n",
              " pycuda._driver.device_attribute.MAXIMUM_TEXTURE2D_GATHER_HEIGHT: 32768,\n",
              " pycuda._driver.device_attribute.MAXIMUM_TEXTURE3D_WIDTH_ALTERNATE: 8192,\n",
              " pycuda._driver.device_attribute.MAXIMUM_TEXTURE3D_HEIGHT_ALTERNATE: 8192,\n",
              " pycuda._driver.device_attribute.MAXIMUM_TEXTURE3D_DEPTH_ALTERNATE: 32768,\n",
              " pycuda._driver.device_attribute.PCI_DOMAIN_ID: 0,\n",
              " pycuda._driver.device_attribute.TEXTURE_PITCH_ALIGNMENT: 32,\n",
              " pycuda._driver.device_attribute.MAXIMUM_TEXTURECUBEMAP_WIDTH: 32768,\n",
              " pycuda._driver.device_attribute.MAXIMUM_TEXTURECUBEMAP_LAYERED_WIDTH: 32768,\n",
              " pycuda._driver.device_attribute.MAXIMUM_TEXTURECUBEMAP_LAYERED_LAYERS: 2046,\n",
              " pycuda._driver.device_attribute.MAXIMUM_SURFACE1D_WIDTH: 32768,\n",
              " pycuda._driver.device_attribute.MAXIMUM_SURFACE2D_WIDTH: 131072,\n",
              " pycuda._driver.device_attribute.MAXIMUM_SURFACE2D_HEIGHT: 65536,\n",
              " pycuda._driver.device_attribute.MAXIMUM_SURFACE3D_WIDTH: 16384,\n",
              " pycuda._driver.device_attribute.MAXIMUM_SURFACE3D_HEIGHT: 16384,\n",
              " pycuda._driver.device_attribute.MAXIMUM_SURFACE3D_DEPTH: 16384,\n",
              " pycuda._driver.device_attribute.MAXIMUM_SURFACE1D_LAYERED_WIDTH: 32768,\n",
              " pycuda._driver.device_attribute.MAXIMUM_SURFACE1D_LAYERED_LAYERS: 2048,\n",
              " pycuda._driver.device_attribute.MAXIMUM_SURFACE2D_LAYERED_WIDTH: 32768,\n",
              " pycuda._driver.device_attribute.MAXIMUM_SURFACE2D_LAYERED_HEIGHT: 32768,\n",
              " pycuda._driver.device_attribute.MAXIMUM_SURFACE2D_LAYERED_LAYERS: 2048,\n",
              " pycuda._driver.device_attribute.MAXIMUM_SURFACECUBEMAP_WIDTH: 32768,\n",
              " pycuda._driver.device_attribute.MAXIMUM_SURFACECUBEMAP_LAYERED_WIDTH: 32768,\n",
              " pycuda._driver.device_attribute.MAXIMUM_SURFACECUBEMAP_LAYERED_LAYERS: 2046,\n",
              " pycuda._driver.device_attribute.MAXIMUM_TEXTURE1D_LINEAR_WIDTH: 134217728,\n",
              " pycuda._driver.device_attribute.MAXIMUM_TEXTURE2D_LINEAR_WIDTH: 131072,\n",
              " pycuda._driver.device_attribute.MAXIMUM_TEXTURE2D_LINEAR_HEIGHT: 65000,\n",
              " pycuda._driver.device_attribute.MAXIMUM_TEXTURE2D_LINEAR_PITCH: 2097120,\n",
              " pycuda._driver.device_attribute.MAXIMUM_TEXTURE2D_MIPMAPPED_WIDTH: 32768,\n",
              " pycuda._driver.device_attribute.MAXIMUM_TEXTURE2D_MIPMAPPED_HEIGHT: 32768,\n",
              " pycuda._driver.device_attribute.COMPUTE_CAPABILITY_MAJOR: 6,\n",
              " pycuda._driver.device_attribute.COMPUTE_CAPABILITY_MINOR: 0,\n",
              " pycuda._driver.device_attribute.MAXIMUM_TEXTURE1D_MIPMAPPED_WIDTH: 16384,\n",
              " pycuda._driver.device_attribute.STREAM_PRIORITIES_SUPPORTED: 1,\n",
              " pycuda._driver.device_attribute.GLOBAL_L1_CACHE_SUPPORTED: 1,\n",
              " pycuda._driver.device_attribute.LOCAL_L1_CACHE_SUPPORTED: 1,\n",
              " pycuda._driver.device_attribute.MAX_SHARED_MEMORY_PER_MULTIPROCESSOR: 65536,\n",
              " pycuda._driver.device_attribute.MAX_REGISTERS_PER_MULTIPROCESSOR: 65536,\n",
              " pycuda._driver.device_attribute.MANAGED_MEMORY: 1,\n",
              " pycuda._driver.device_attribute.MULTI_GPU_BOARD: 0,\n",
              " pycuda._driver.device_attribute.MULTI_GPU_BOARD_GROUP_ID: 0}"
            ]
          },
          "metadata": {
            "tags": []
          },
          "execution_count": 30
        }
      ]
    },
    {
      "cell_type": "code",
      "metadata": {
        "id": "r1QnSHnpbqsm",
        "colab_type": "code",
        "colab": {
          "base_uri": "https://localhost:8080/",
          "height": 572
        },
        "outputId": "e0627232-862e-40a2-f728-e8d93ac431ce"
      },
      "source": [
        "Batch_size = 16\n",
        "input_size = 784\n",
        "hidden_size = 100\n",
        "\n",
        "# define the (square) matrix size\n",
        "def dotprod(a_gpu,b_gpu,Batch_size = Batch_size,input_size = input_size, hidden_size = hidden_size):\n",
        "    kernel_code_template = \"\"\"\n",
        "    __global__ void MatrixMulKernel(float *A, float *B, float *C)\n",
        "    {\n",
        "      // Shared memory for the sub-matrix of A\n",
        "      __shared__ float As[1][%(input_size)s];\n",
        "      // Shared memory for the sub-matrix of B\n",
        "      __shared__ float Bs[%(input_size)s][%(hidden_size)s];\n",
        "      \n",
        "      float Csub = 0;\n",
        "      // Loop over all the sub-matrices of A and B required to\n",
        "      // compute the block sub-matrix\n",
        "      for (int a = 0;\n",
        "           a < %(Batch_size)s;\n",
        "           a += 1)\n",
        "        {\n",
        "\n",
        "          // Load the matrices from global memory to shared memory\n",
        "          // each thread loads one element of each matrix\n",
        "          As = A[a];\n",
        "          Bs = B;\n",
        "\n",
        "          // Multiply the two matrices together;\n",
        "          // each thread computes one element \n",
        "          // of the block sub-matrix\n",
        "          for (int j = 0; j < %(hidden_size)s; ++j)\n",
        "          {\n",
        "            for (int k = 0; k < %(input_size)s; ++k)\n",
        "              Csub += As[k] * Bs[k][j];\n",
        "        \n",
        "            C[a][j] = Csub;\n",
        "          }\n",
        "        }\n",
        "    }\n",
        "    \"\"\"\n",
        "\n",
        "    # define size of blocks and tiles sub-matrix\n",
        "    # (we assume that the block size is same as tile size)\n",
        "    TILE_SIZE = 8\n",
        "    BLOCK_SIZE = TILE_SIZE\n",
        "\n",
        "    # get the kernel code from the template\n",
        "    # by specifying the constants MATRIX_SIZE and BLOCK_SIZE\n",
        "    kernel_code = kernel_code_template % {\n",
        "        'BLOCK_SIZE': BLOCK_SIZE,\n",
        "        'Batch_size': Batch_size,\n",
        "        'input_size': input_size,\n",
        "        'hidden_size': hidden_size\n",
        "        }\n",
        "\n",
        "    # compile the kernel code\n",
        "    mod = compiler.SourceModule(kernel_code)\n",
        "    # create empty gpu array for the result (C = A * B)\n",
        "    c_gpu = gpuarray.empty((Batch_size, hidden_size), np.float32)\n",
        "\n",
        "    # get the kernel function from the compiled module\n",
        "    dotprod = mod.get_function(\"MatrixMulKernel\")\n",
        "\n",
        "    # call the kernel on the card\n",
        "    time_start=time.time()\n",
        "    dotprod(\n",
        "        # inputs\n",
        "        a_gpu, b_gpu,\n",
        "        # output\n",
        "        c_gpu\n",
        "        )\n",
        "    time_end=time.time()\n",
        "    print('enlapsed time (GPU):',time_end-time_start,' seconds')\n",
        "\n",
        "    return c_gpu\n",
        "\n",
        "# create two random square matrices\n",
        "a_cpu = np.random.randn(Batch_size, input_size).astype(np.float32)\n",
        "b_cpu = np.random.randn(input_size, hidden_size).astype(np.float32)\n",
        "\n",
        "# transfer host (CPU) memory to device (GPU) memory\n",
        "a_gpu = gpuarray.to_gpu(a_cpu)\n",
        "b_gpu = gpuarray.to_gpu(b_cpu)\n",
        "c_gpu = dotprod(a_gpu,b_gpu)\n",
        "\n",
        "\n",
        "# print the results\n",
        "print(\"-\" * 80)\n",
        "print(\"Matrix A (GPU):\")\n",
        "print(a_gpu.get())\n",
        "\n",
        "print(\"-\" * 80)\n",
        "print(\"Matrix B (GPU):\")\n",
        "print(b_gpu.get())\n",
        "\n",
        "print(\"-\" * 80)\n",
        "print(\"Matrix C (GPU):\")\n",
        "print(c_gpu.get())\n"
      ],
      "execution_count": null,
      "outputs": [
        {
          "output_type": "error",
          "ename": "CompileError",
          "evalue": "ignored",
          "traceback": [
            "\u001b[0;31m---------------------------------------------------------------------------\u001b[0m",
            "\u001b[0;31mCompileError\u001b[0m                              Traceback (most recent call last)",
            "\u001b[0;32m<ipython-input-37-fe4ee9703971>\u001b[0m in \u001b[0;36m<module>\u001b[0;34m()\u001b[0m\n\u001b[1;32m     82\u001b[0m \u001b[0ma_gpu\u001b[0m \u001b[0;34m=\u001b[0m \u001b[0mgpuarray\u001b[0m\u001b[0;34m.\u001b[0m\u001b[0mto_gpu\u001b[0m\u001b[0;34m(\u001b[0m\u001b[0ma_cpu\u001b[0m\u001b[0;34m)\u001b[0m\u001b[0;34m\u001b[0m\u001b[0;34m\u001b[0m\u001b[0m\n\u001b[1;32m     83\u001b[0m \u001b[0mb_gpu\u001b[0m \u001b[0;34m=\u001b[0m \u001b[0mgpuarray\u001b[0m\u001b[0;34m.\u001b[0m\u001b[0mto_gpu\u001b[0m\u001b[0;34m(\u001b[0m\u001b[0mb_cpu\u001b[0m\u001b[0;34m)\u001b[0m\u001b[0;34m\u001b[0m\u001b[0;34m\u001b[0m\u001b[0m\n\u001b[0;32m---> 84\u001b[0;31m \u001b[0mc_gpu\u001b[0m \u001b[0;34m=\u001b[0m \u001b[0mdotprod\u001b[0m\u001b[0;34m(\u001b[0m\u001b[0ma_gpu\u001b[0m\u001b[0;34m,\u001b[0m\u001b[0mb_gpu\u001b[0m\u001b[0;34m)\u001b[0m\u001b[0;34m\u001b[0m\u001b[0;34m\u001b[0m\u001b[0m\n\u001b[0m\u001b[1;32m     85\u001b[0m \u001b[0;34m\u001b[0m\u001b[0m\n\u001b[1;32m     86\u001b[0m \u001b[0;34m\u001b[0m\u001b[0m\n",
            "\u001b[0;32m<ipython-input-37-fe4ee9703971>\u001b[0m in \u001b[0;36mdotprod\u001b[0;34m(a_gpu, b_gpu, Batch_size, input_size, hidden_size)\u001b[0m\n\u001b[1;32m     55\u001b[0m \u001b[0;34m\u001b[0m\u001b[0m\n\u001b[1;32m     56\u001b[0m     \u001b[0;31m# compile the kernel code\u001b[0m\u001b[0;34m\u001b[0m\u001b[0;34m\u001b[0m\u001b[0;34m\u001b[0m\u001b[0m\n\u001b[0;32m---> 57\u001b[0;31m     \u001b[0mmod\u001b[0m \u001b[0;34m=\u001b[0m \u001b[0mcompiler\u001b[0m\u001b[0;34m.\u001b[0m\u001b[0mSourceModule\u001b[0m\u001b[0;34m(\u001b[0m\u001b[0mkernel_code\u001b[0m\u001b[0;34m)\u001b[0m\u001b[0;34m\u001b[0m\u001b[0;34m\u001b[0m\u001b[0m\n\u001b[0m\u001b[1;32m     58\u001b[0m     \u001b[0;31m# create empty gpu array for the result (C = A * B)\u001b[0m\u001b[0;34m\u001b[0m\u001b[0;34m\u001b[0m\u001b[0;34m\u001b[0m\u001b[0m\n\u001b[1;32m     59\u001b[0m     \u001b[0mc_gpu\u001b[0m \u001b[0;34m=\u001b[0m \u001b[0mgpuarray\u001b[0m\u001b[0;34m.\u001b[0m\u001b[0mempty\u001b[0m\u001b[0;34m(\u001b[0m\u001b[0;34m(\u001b[0m\u001b[0mBatch_size\u001b[0m\u001b[0;34m,\u001b[0m \u001b[0mhidden_size\u001b[0m\u001b[0;34m)\u001b[0m\u001b[0;34m,\u001b[0m \u001b[0mnp\u001b[0m\u001b[0;34m.\u001b[0m\u001b[0mfloat32\u001b[0m\u001b[0;34m)\u001b[0m\u001b[0;34m\u001b[0m\u001b[0;34m\u001b[0m\u001b[0m\n",
            "\u001b[0;32m/usr/local/lib/python3.6/dist-packages/pycuda/compiler.py\u001b[0m in \u001b[0;36m__init__\u001b[0;34m(self, source, nvcc, options, keep, no_extern_c, arch, code, cache_dir, include_dirs)\u001b[0m\n\u001b[1;32m    289\u001b[0m \u001b[0;34m\u001b[0m\u001b[0m\n\u001b[1;32m    290\u001b[0m         cubin = compile(source, nvcc, options, keep, no_extern_c,\n\u001b[0;32m--> 291\u001b[0;31m                 arch, code, cache_dir, include_dirs)\n\u001b[0m\u001b[1;32m    292\u001b[0m \u001b[0;34m\u001b[0m\u001b[0m\n\u001b[1;32m    293\u001b[0m         \u001b[0;32mfrom\u001b[0m \u001b[0mpycuda\u001b[0m\u001b[0;34m.\u001b[0m\u001b[0mdriver\u001b[0m \u001b[0;32mimport\u001b[0m \u001b[0mmodule_from_buffer\u001b[0m\u001b[0;34m\u001b[0m\u001b[0;34m\u001b[0m\u001b[0m\n",
            "\u001b[0;32m/usr/local/lib/python3.6/dist-packages/pycuda/compiler.py\u001b[0m in \u001b[0;36mcompile\u001b[0;34m(source, nvcc, options, keep, no_extern_c, arch, code, cache_dir, include_dirs, target)\u001b[0m\n\u001b[1;32m    252\u001b[0m         \u001b[0moptions\u001b[0m\u001b[0;34m.\u001b[0m\u001b[0mappend\u001b[0m\u001b[0;34m(\u001b[0m\u001b[0;34m\"-I\"\u001b[0m\u001b[0;34m+\u001b[0m\u001b[0mi\u001b[0m\u001b[0;34m)\u001b[0m\u001b[0;34m\u001b[0m\u001b[0;34m\u001b[0m\u001b[0m\n\u001b[1;32m    253\u001b[0m \u001b[0;34m\u001b[0m\u001b[0m\n\u001b[0;32m--> 254\u001b[0;31m     \u001b[0;32mreturn\u001b[0m \u001b[0mcompile_plain\u001b[0m\u001b[0;34m(\u001b[0m\u001b[0msource\u001b[0m\u001b[0;34m,\u001b[0m \u001b[0moptions\u001b[0m\u001b[0;34m,\u001b[0m \u001b[0mkeep\u001b[0m\u001b[0;34m,\u001b[0m \u001b[0mnvcc\u001b[0m\u001b[0;34m,\u001b[0m \u001b[0mcache_dir\u001b[0m\u001b[0;34m,\u001b[0m \u001b[0mtarget\u001b[0m\u001b[0;34m)\u001b[0m\u001b[0;34m\u001b[0m\u001b[0;34m\u001b[0m\u001b[0m\n\u001b[0m\u001b[1;32m    255\u001b[0m \u001b[0;34m\u001b[0m\u001b[0m\n\u001b[1;32m    256\u001b[0m \u001b[0;34m\u001b[0m\u001b[0m\n",
            "\u001b[0;32m/usr/local/lib/python3.6/dist-packages/pycuda/compiler.py\u001b[0m in \u001b[0;36mcompile_plain\u001b[0;34m(source, options, keep, nvcc, cache_dir, target)\u001b[0m\n\u001b[1;32m    135\u001b[0m         raise CompileError(\"nvcc compilation of %s failed\" % cu_file_path,\n\u001b[1;32m    136\u001b[0m                 \u001b[0mcmdline\u001b[0m\u001b[0;34m,\u001b[0m \u001b[0mstdout\u001b[0m\u001b[0;34m=\u001b[0m\u001b[0mstdout\u001b[0m\u001b[0;34m.\u001b[0m\u001b[0mdecode\u001b[0m\u001b[0;34m(\u001b[0m\u001b[0;34m\"utf-8\"\u001b[0m\u001b[0;34m,\u001b[0m \u001b[0;34m\"replace\"\u001b[0m\u001b[0;34m)\u001b[0m\u001b[0;34m,\u001b[0m\u001b[0;34m\u001b[0m\u001b[0;34m\u001b[0m\u001b[0m\n\u001b[0;32m--> 137\u001b[0;31m                 stderr=stderr.decode(\"utf-8\", \"replace\"))\n\u001b[0m\u001b[1;32m    138\u001b[0m \u001b[0;34m\u001b[0m\u001b[0m\n\u001b[1;32m    139\u001b[0m     \u001b[0;32mif\u001b[0m \u001b[0mstdout\u001b[0m \u001b[0;32mor\u001b[0m \u001b[0mstderr\u001b[0m\u001b[0;34m:\u001b[0m\u001b[0;34m\u001b[0m\u001b[0;34m\u001b[0m\u001b[0m\n",
            "\u001b[0;31mCompileError\u001b[0m: nvcc compilation of /tmp/tmpez82gihz/kernel.cu failed\n[command: nvcc --cubin -arch sm_60 -I/usr/local/lib/python3.6/dist-packages/pycuda/cuda kernel.cu]\n[stderr:\nkernel.cu(20): error: expression must be a modifiable lvalue\n\nkernel.cu(21): error: expression must be a modifiable lvalue\n\nkernel.cu(29): error: expression must have arithmetic or unscoped enum type\n\nkernel.cu(31): error: expression must have pointer-to-object type\n\n4 errors detected in the compilation of \"/tmp/tmpxft_000008d0_00000000-6_kernel.cpp1.ii\".\n]"
          ]
        }
      ]
    },
    {
      "cell_type": "code",
      "metadata": {
        "id": "86w5fkKtpqw6",
        "colab_type": "code",
        "colab": {}
      },
      "source": [
        "class SimpleNN():\n",
        "  \"\"\"\n",
        "  Simple neural network with two fully connected layers and a rectified linear unit (ReLU) between them\n",
        "  Inputs are in dimension p and outputs are in dimension 1. \n",
        "  Remark: NN training is performed at each iteration using a single observation. We then use here an\n",
        "  online training procedure and not a more standard mini-batch training. Our goal here is to make the \n",
        "  code simple for pedagogical purposes. \n",
        "  \"\"\"\n",
        "  \n",
        "  def __init__(self,p,convspeed=0.1):\n",
        "    \"\"\"\n",
        "    Initialize the simple NN\n",
        "    \"\"\"\n",
        "    self.p=p\n",
        "    self.convspeed=convspeed\n",
        "    self.theta1=np.random.randn(1,100)/100\n",
        "    self.theta2=np.random.randn(100,self.p)/self.p\n",
        "  \n",
        "    self.Grad_theta1_E=np.zeros((1,100))\n",
        "    self.Grad_theta2_E=np.zeros((100,self.p))\n",
        "  \n",
        "  def predict(self,X_curr):\n",
        "    \"\"\"\n",
        "    Predic the output of the input X_curr. X_curr must be a numpy array of dimension (p)\n",
        "    \"\"\"\n",
        "    #1ST LAYER \n",
        "    theta2_X=np.dot(self.theta2,X_curr)  \n",
        "    \n",
        "    #RELU\n",
        "    ReluFilter=1*(theta2_X>0)            \n",
        "    Filtered_theta2_X=ReluFilter*theta2_X\n",
        "    \n",
        "    #2ND LAYER\n",
        "    y_pred=np.dot(self.theta1,Filtered_theta2_X)[0]\n",
        "    \n",
        "    return y_pred\n",
        "  \n",
        "  \n",
        "  def CptGrads(self,X_curr,y_curr_true,y_curr_pred):\n",
        "    \"\"\"\n",
        "    Compute the loss gradient w.r.t. the two layers parameters. We consider that the loss\n",
        "    is (y_true-y_pred)^2, where  y_true and y_pred are in R. X_curr is also a numpy array \n",
        "    of dimension (p). \n",
        "    Remark: a single observation is used at each iteration to estimate the minimized energy.\n",
        "    Online training and not mini-batch training is then performed here. \n",
        "    \"\"\"\n",
        "    \n",
        "    #cpt self.Grad_theta1_E\n",
        "    theta2_X=np.dot(self.theta2,X_curr)\n",
        "    ReluFilter=1*(theta2_X>0)\n",
        "    self.Grad_theta1_E=-2*(y_curr_true-y_curr_pred)*(theta2_X*ReluFilter)\n",
        "    self.Grad_theta1_E=self.Grad_theta1_E.reshape(1,100)\n",
        "    \n",
        "    #cpt self.Grad_theta2_E\n",
        "    filtered_theta1=(self.theta1*ReluFilter).reshape(100,1)\n",
        "    self.Grad_theta2_E=-2*(y_curr_true-y_curr_pred)*np.dot(filtered_theta1,X_curr.reshape(1,self.p))\n",
        "\n",
        "  def Update(self):\n",
        "    \"\"\"\n",
        "    Update the parameters of layers 1 and 2 with gradients that have been estimated using \n",
        "    the class method 'CptGrads'\n",
        "    \"\"\"\n",
        "    self.theta1=self.theta1-self.convspeed*self.Grad_theta1_E\n",
        "    self.theta2=self.theta2-self.convspeed*self.Grad_theta2_E"
      ],
      "execution_count": null,
      "outputs": []
    }
  ]
}